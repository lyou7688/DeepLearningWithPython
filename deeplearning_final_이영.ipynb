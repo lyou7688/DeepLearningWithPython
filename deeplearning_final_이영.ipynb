{
 "cells": [
  {
   "cell_type": "code",
   "execution_count": 1,
   "metadata": {
    "id": "1L7iVqYh1sef",
    "outputId": "91797cef-c764-47ff-d712-d9d6144329de"
   },
   "outputs": [
    {
     "data": {
      "text/plain": [
       "'2.4.0'"
      ]
     },
     "execution_count": 1,
     "metadata": {},
     "output_type": "execute_result"
    }
   ],
   "source": [
    "# tensorflow keras 버전 확인합니다.\n",
    "import tensorflow\n",
    "tensorflow.keras.__version__"
   ]
  },
  {
   "cell_type": "raw",
   "metadata": {},
   "source": [
    "# LSTM 모형을 이용하여 삼성전자 주가 예측과 moving average 기법을 통해 매수/매도 시점을 선택했을 때 수익 분석을 목적으로 했습니다."
   ]
  },
  {
   "cell_type": "raw",
   "metadata": {},
   "source": [
    "# 필요한 모듈 불러옵니다."
   ]
  },
  {
   "cell_type": "code",
   "execution_count": 2,
   "metadata": {},
   "outputs": [],
   "source": [
    "import pandas as pd\n",
    "import numpy as np\n",
    "import matplotlib.pyplot as plt\n",
    "from keras.models import Sequential\n",
    "from keras.layers import LSTM, Dropout, Dense, Activation\n",
    "# from keras.callbacks import TensorBoard, ModelCheckpoint, ReduceLROnPlateau\n",
    "import datetime\n",
    "import requests\n",
    "import time\n",
    "import plotly\n",
    "import plotly.graph_objects as go\n",
    "import plotly.express as px\n",
    "\n",
    "%matplotlib inline "
   ]
  },
  {
   "cell_type": "raw",
   "metadata": {},
   "source": [
    "# 네이버 finance에서 삼성전자 주식 데이터 가지고 와서 csv 파일로 저장합니다. '005930.csv'"
   ]
  },
  {
   "cell_type": "code",
   "execution_count": null,
   "metadata": {},
   "outputs": [],
   "source": [
    "\n",
    "def get_html(code: str, page: int) -> str:\n",
    "    url = \"https://finance.naver.com/item/sise_day.nhn?\"\n",
    "    querystring = {\"code\":code, \"page\":page}\n",
    "    headers = {\"User-Agent\": \"Mozilla/5.0 (Windows NT 10.0; Win64; x64) AppleWebKit/537.36 (KHTML, like Gecko) Chrome/90.0.4430.93 Safari/537.36\"}\n",
    "    response = requests.get(url, params=querystring, headers=headers)\n",
    "    try:\n",
    "        response.raise_for_status()\n",
    "    except Exception as exc:\n",
    "        print(exc)\n",
    "        exit(0)\n",
    "    \n",
    "    return response.text\n",
    "\n",
    "def get_last_page(code: str) -> int:\n",
    "    page = 9999\n",
    "    dfs = pd.read_html(get_html(code, page))\n",
    "    df = dfs[1]\n",
    "    return df[df.shape[1]-1].iloc[0]\n",
    "\n",
    "def scrap_data(code: str, sleep_time: int=2) -> pd.DataFrame:\n",
    "    df = pd.DataFrame()\n",
    "    for page in range(1, get_last_page(code)+1):\n",
    "        date_converter = lambda d:d.replace('.', '-')\n",
    "        dfs = pd.read_html(io=get_html(code, page), converters={0:date_converter})\n",
    "        df = df.append(dfs[0].dropna().astype(dtype='int64', errors='ignore'), ignore_index=True)\n",
    "        print(df.tail(1))\n",
    "        time.sleep(sleep_time)\n",
    "    return df\n",
    "\n",
    "def store_data(df: pd.DataFrame, code: int) -> None:\n",
    "    df.to_csv(f\"{code}.csv\", index=False)\n",
    "\n",
    "code = '005930' # 삼성전자 종목 코드\n",
    "store_data(scrap_data(code), code)"
   ]
  },
  {
   "cell_type": "raw",
   "metadata": {},
   "source": [
    "# 1996-06-25~2021-06-18까지 삼성전자 주식 데이터 불러와 5개 관측을 확인해보면, 최신 날짜 순으로 저장되어 있습니다."
   ]
  },
  {
   "cell_type": "code",
   "execution_count": 3,
   "metadata": {},
   "outputs": [
    {
     "data": {
      "text/html": [
       "<div>\n",
       "<style scoped>\n",
       "    .dataframe tbody tr th:only-of-type {\n",
       "        vertical-align: middle;\n",
       "    }\n",
       "\n",
       "    .dataframe tbody tr th {\n",
       "        vertical-align: top;\n",
       "    }\n",
       "\n",
       "    .dataframe thead th {\n",
       "        text-align: right;\n",
       "    }\n",
       "</style>\n",
       "<table border=\"1\" class=\"dataframe\">\n",
       "  <thead>\n",
       "    <tr style=\"text-align: right;\">\n",
       "      <th></th>\n",
       "      <th>날짜</th>\n",
       "      <th>종가</th>\n",
       "      <th>전일비</th>\n",
       "      <th>시가</th>\n",
       "      <th>고가</th>\n",
       "      <th>저가</th>\n",
       "      <th>거래량</th>\n",
       "    </tr>\n",
       "  </thead>\n",
       "  <tbody>\n",
       "    <tr>\n",
       "      <th>0</th>\n",
       "      <td>2021-06-18</td>\n",
       "      <td>80500</td>\n",
       "      <td>400</td>\n",
       "      <td>81100</td>\n",
       "      <td>81100</td>\n",
       "      <td>80500</td>\n",
       "      <td>14618173</td>\n",
       "    </tr>\n",
       "    <tr>\n",
       "      <th>1</th>\n",
       "      <td>2021-06-17</td>\n",
       "      <td>80900</td>\n",
       "      <td>900</td>\n",
       "      <td>81100</td>\n",
       "      <td>81300</td>\n",
       "      <td>80700</td>\n",
       "      <td>14007385</td>\n",
       "    </tr>\n",
       "    <tr>\n",
       "      <th>2</th>\n",
       "      <td>2021-06-16</td>\n",
       "      <td>81800</td>\n",
       "      <td>900</td>\n",
       "      <td>81500</td>\n",
       "      <td>81900</td>\n",
       "      <td>81100</td>\n",
       "      <td>14999855</td>\n",
       "    </tr>\n",
       "    <tr>\n",
       "      <th>3</th>\n",
       "      <td>2021-06-15</td>\n",
       "      <td>80900</td>\n",
       "      <td>400</td>\n",
       "      <td>80900</td>\n",
       "      <td>81200</td>\n",
       "      <td>80600</td>\n",
       "      <td>10075685</td>\n",
       "    </tr>\n",
       "    <tr>\n",
       "      <th>4</th>\n",
       "      <td>2021-06-14</td>\n",
       "      <td>80500</td>\n",
       "      <td>500</td>\n",
       "      <td>80800</td>\n",
       "      <td>80900</td>\n",
       "      <td>80500</td>\n",
       "      <td>10550078</td>\n",
       "    </tr>\n",
       "  </tbody>\n",
       "</table>\n",
       "</div>"
      ],
      "text/plain": [
       "           날짜     종가  전일비     시가     고가     저가       거래량\n",
       "0  2021-06-18  80500  400  81100  81100  80500  14618173\n",
       "1  2021-06-17  80900  900  81100  81300  80700  14007385\n",
       "2  2021-06-16  81800  900  81500  81900  81100  14999855\n",
       "3  2021-06-15  80900  400  80900  81200  80600  10075685\n",
       "4  2021-06-14  80500  500  80800  80900  80500  10550078"
      ]
     },
     "execution_count": 3,
     "metadata": {},
     "output_type": "execute_result"
    }
   ],
   "source": [
    "data = pd.read_csv('005930.csv') \n",
    "data.head()"
   ]
  },
  {
   "cell_type": "raw",
   "metadata": {},
   "source": [
    "# 혹시 결측이 있으면 제거하도록 설정해줍니다.(결측값 있는 행 제거)\n",
    "# 편의를 위해 변수명을 영어로 바꿨습니다.\n",
    "# 컬럼명 'date'의 타입을 date로 바꿨습니다.\n",
    "# 일자(date)를 기준으로 오름차순 정렬합니다."
   ]
  },
  {
   "cell_type": "code",
   "execution_count": 4,
   "metadata": {},
   "outputs": [
    {
     "data": {
      "text/html": [
       "<div>\n",
       "<style scoped>\n",
       "    .dataframe tbody tr th:only-of-type {\n",
       "        vertical-align: middle;\n",
       "    }\n",
       "\n",
       "    .dataframe tbody tr th {\n",
       "        vertical-align: top;\n",
       "    }\n",
       "\n",
       "    .dataframe thead th {\n",
       "        text-align: right;\n",
       "    }\n",
       "</style>\n",
       "<table border=\"1\" class=\"dataframe\">\n",
       "  <thead>\n",
       "    <tr style=\"text-align: right;\">\n",
       "      <th></th>\n",
       "      <th>date</th>\n",
       "      <th>close</th>\n",
       "      <th>diff</th>\n",
       "      <th>open</th>\n",
       "      <th>high</th>\n",
       "      <th>low</th>\n",
       "      <th>volume</th>\n",
       "    </tr>\n",
       "  </thead>\n",
       "  <tbody>\n",
       "    <tr>\n",
       "      <th>6276</th>\n",
       "      <td>1996-06-25</td>\n",
       "      <td>67500</td>\n",
       "      <td>0</td>\n",
       "      <td>66500</td>\n",
       "      <td>68300</td>\n",
       "      <td>65600</td>\n",
       "      <td>112960</td>\n",
       "    </tr>\n",
       "    <tr>\n",
       "      <th>6275</th>\n",
       "      <td>1996-06-26</td>\n",
       "      <td>67700</td>\n",
       "      <td>200</td>\n",
       "      <td>67600</td>\n",
       "      <td>67900</td>\n",
       "      <td>66000</td>\n",
       "      <td>136630</td>\n",
       "    </tr>\n",
       "    <tr>\n",
       "      <th>6274</th>\n",
       "      <td>1996-06-27</td>\n",
       "      <td>66900</td>\n",
       "      <td>800</td>\n",
       "      <td>67500</td>\n",
       "      <td>67700</td>\n",
       "      <td>66700</td>\n",
       "      <td>155450</td>\n",
       "    </tr>\n",
       "    <tr>\n",
       "      <th>6273</th>\n",
       "      <td>1996-06-28</td>\n",
       "      <td>68100</td>\n",
       "      <td>1200</td>\n",
       "      <td>67300</td>\n",
       "      <td>68500</td>\n",
       "      <td>67200</td>\n",
       "      <td>138430</td>\n",
       "    </tr>\n",
       "    <tr>\n",
       "      <th>6272</th>\n",
       "      <td>1996-06-29</td>\n",
       "      <td>68500</td>\n",
       "      <td>400</td>\n",
       "      <td>68100</td>\n",
       "      <td>69100</td>\n",
       "      <td>67100</td>\n",
       "      <td>96710</td>\n",
       "    </tr>\n",
       "  </tbody>\n",
       "</table>\n",
       "</div>"
      ],
      "text/plain": [
       "           date  close  diff   open   high    low  volume\n",
       "6276 1996-06-25  67500     0  66500  68300  65600  112960\n",
       "6275 1996-06-26  67700   200  67600  67900  66000  136630\n",
       "6274 1996-06-27  66900   800  67500  67700  66700  155450\n",
       "6273 1996-06-28  68100  1200  67300  68500  67200  138430\n",
       "6272 1996-06-29  68500   400  68100  69100  67100   96710"
      ]
     },
     "execution_count": 4,
     "metadata": {},
     "output_type": "execute_result"
    }
   ],
   "source": [
    "data = data.dropna() \n",
    "\n",
    "data = data.rename(columns= {'날짜': 'date', '종가': 'close', '전일비': 'diff', '시가': 'open', '고가': 'high', '저가': 'low', '거래량': 'volume'}) \n",
    "\n",
    "data['date'] = pd.to_datetime(data['date']) \n",
    "\n",
    "data = data.sort_values(by=['date'], ascending=True) \n",
    "\n",
    "data.head()"
   ]
  },
  {
   "cell_type": "raw",
   "metadata": {},
   "source": [
    "# 액면분할 이후 데이터만 이용하기 위해 2018-05-03 이후 데이터만 가지고 옵니다."
   ]
  },
  {
   "cell_type": "code",
   "execution_count": 5,
   "metadata": {},
   "outputs": [
    {
     "data": {
      "text/html": [
       "<div>\n",
       "<style scoped>\n",
       "    .dataframe tbody tr th:only-of-type {\n",
       "        vertical-align: middle;\n",
       "    }\n",
       "\n",
       "    .dataframe tbody tr th {\n",
       "        vertical-align: top;\n",
       "    }\n",
       "\n",
       "    .dataframe thead th {\n",
       "        text-align: right;\n",
       "    }\n",
       "</style>\n",
       "<table border=\"1\" class=\"dataframe\">\n",
       "  <thead>\n",
       "    <tr style=\"text-align: right;\">\n",
       "      <th></th>\n",
       "      <th>date</th>\n",
       "      <th>close</th>\n",
       "      <th>diff</th>\n",
       "      <th>open</th>\n",
       "      <th>high</th>\n",
       "      <th>low</th>\n",
       "      <th>volume</th>\n",
       "    </tr>\n",
       "  </thead>\n",
       "  <tbody>\n",
       "    <tr>\n",
       "      <th>768</th>\n",
       "      <td>2018-05-04</td>\n",
       "      <td>51900</td>\n",
       "      <td>1100</td>\n",
       "      <td>53000</td>\n",
       "      <td>53900</td>\n",
       "      <td>51800</td>\n",
       "      <td>39565391</td>\n",
       "    </tr>\n",
       "    <tr>\n",
       "      <th>767</th>\n",
       "      <td>2018-05-08</td>\n",
       "      <td>52600</td>\n",
       "      <td>700</td>\n",
       "      <td>52600</td>\n",
       "      <td>53200</td>\n",
       "      <td>51900</td>\n",
       "      <td>23104720</td>\n",
       "    </tr>\n",
       "    <tr>\n",
       "      <th>766</th>\n",
       "      <td>2018-05-09</td>\n",
       "      <td>50900</td>\n",
       "      <td>1700</td>\n",
       "      <td>52600</td>\n",
       "      <td>52800</td>\n",
       "      <td>50900</td>\n",
       "      <td>16128305</td>\n",
       "    </tr>\n",
       "    <tr>\n",
       "      <th>765</th>\n",
       "      <td>2018-05-10</td>\n",
       "      <td>51600</td>\n",
       "      <td>700</td>\n",
       "      <td>51700</td>\n",
       "      <td>51700</td>\n",
       "      <td>50600</td>\n",
       "      <td>13905263</td>\n",
       "    </tr>\n",
       "    <tr>\n",
       "      <th>764</th>\n",
       "      <td>2018-05-11</td>\n",
       "      <td>51300</td>\n",
       "      <td>300</td>\n",
       "      <td>52000</td>\n",
       "      <td>52200</td>\n",
       "      <td>51200</td>\n",
       "      <td>10314997</td>\n",
       "    </tr>\n",
       "  </tbody>\n",
       "</table>\n",
       "</div>"
      ],
      "text/plain": [
       "          date  close  diff   open   high    low    volume\n",
       "768 2018-05-04  51900  1100  53000  53900  51800  39565391\n",
       "767 2018-05-08  52600   700  52600  53200  51900  23104720\n",
       "766 2018-05-09  50900  1700  52600  52800  50900  16128305\n",
       "765 2018-05-10  51600   700  51700  51700  50600  13905263\n",
       "764 2018-05-11  51300   300  52000  52200  51200  10314997"
      ]
     },
     "execution_count": 5,
     "metadata": {},
     "output_type": "execute_result"
    }
   ],
   "source": [
    "data = data.loc[data['date']>='2018-05-04',]\n",
    "data.head()"
   ]
  },
  {
   "cell_type": "raw",
   "metadata": {},
   "source": [
    "# 2018-05-04부터 2021-06-18까지 데이터로 관측은 769개, 변수 수는 7개입니다."
   ]
  },
  {
   "cell_type": "code",
   "execution_count": 6,
   "metadata": {},
   "outputs": [
    {
     "data": {
      "text/plain": [
       "(769, 7)"
      ]
     },
     "execution_count": 6,
     "metadata": {},
     "output_type": "execute_result"
    }
   ],
   "source": [
    "data.shape"
   ]
  },
  {
   "cell_type": "raw",
   "metadata": {},
   "source": [
    "# 날짜에 따른 종가 그래프를 확인합니다."
   ]
  },
  {
   "cell_type": "code",
   "execution_count": 7,
   "metadata": {},
   "outputs": [
    {
     "data": {
      "image/png": "[encoded data removed]",
      "text/plain": [
       "<Figure size 720x288 with 1 Axes>"
      ]
     },
     "metadata": {
      "needs_background": "light"
     },
     "output_type": "display_data"
    }
   ],
   "source": [
    "plt.figure(figsize=(10,4))\n",
    "plt.plot(data['date'], data['close'])\n",
    "plt.xlabel('')\n",
    "plt.ylabel('close')\n",
    "plt.tick_params(\n",
    "    axis='x',          \n",
    "    which='both',      \n",
    "    bottom=True,      \n",
    "    top=False,        \n",
    "    labelbottom=True) \n",
    "plt.show()"
   ]
  },
  {
   "cell_type": "raw",
   "metadata": {},
   "source": [
    "# Mid Price를 계산합니다. \n",
    "# 주식가격 예측이 힘들고, 특히 저가 고가 예측은 더 힘들기 때문에 중간 가격이라도 예측 가능하다면 이를 활용할 수 있기 때문에 mid price 예측이 목적입니다."
   ]
  },
  {
   "cell_type": "code",
   "execution_count": 8,
   "metadata": {},
   "outputs": [],
   "source": [
    "high_prices = data['high'].values\n",
    "low_prices = data['low'].values\n",
    "mid_prices = (high_prices + low_prices) / 2"
   ]
  },
  {
   "cell_type": "raw",
   "metadata": {},
   "source": [
    "# LSTM 모형 input으로 넣어줄 데이터를 위해 크기 50+1의 window 만들었습니다.\n",
    "# 50일간 mid price를 이용해 그 다음 날 mid price를 예측하기 위함입니다."
   ]
  },
  {
   "cell_type": "code",
   "execution_count": 9,
   "metadata": {},
   "outputs": [],
   "source": [
    "seq_len = 50\n",
    "sequence_length = seq_len + 1\n",
    "\n",
    "result = []\n",
    "for index in range(len(mid_prices) - sequence_length):\n",
    "    result.append(mid_prices[index: index + sequence_length])"
   ]
  },
  {
   "cell_type": "raw",
   "metadata": {},
   "source": [
    "# 데이터 normalizaton은 2018-05-04의 mid price로 빼주고, 나눠서 진행했습니다. 이를 위해 scale에 2018-05-04의 mid price를 저장합니다."
   ]
  },
  {
   "cell_type": "code",
   "execution_count": 10,
   "metadata": {},
   "outputs": [
    {
     "data": {
      "text/plain": [
       "52550.0"
      ]
     },
     "execution_count": 10,
     "metadata": {},
     "output_type": "execute_result"
    }
   ],
   "source": [
    "scale = result[0][1]\n",
    "scale"
   ]
  },
  {
   "cell_type": "raw",
   "metadata": {},
   "source": [
    "# 데이터를 normalization 시킨 후 9:1 비율로 train 데이터와 test 데이터를 구성합니다.\n",
    "# train 데이터는 추후 학습을 위해 순서를 랜덤하게 바꿔줍니다.\n",
    "# train 데이터는 646개 window로, test 데이터는 72개 window로 구성되어 있습니다.\n",
    "# 각 window에서 앞에 50개가 x, 뒤에 1개가 y로 이용됩니다. (x로 y 예측)"
   ]
  },
  {
   "cell_type": "code",
   "execution_count": 11,
   "metadata": {},
   "outputs": [
    {
     "data": {
      "text/plain": [
       "((646, 50, 1), (72, 50, 1))"
      ]
     },
     "execution_count": 11,
     "metadata": {},
     "output_type": "execute_result"
    }
   ],
   "source": [
    "normalized_data = []\n",
    "for window in result:\n",
    "    #normalized_window = [((p / window[0]) - 1) for p in window]\n",
    "    normalized_window = [((p /scale) - 1) for p in window]\n",
    "    normalized_data.append(normalized_window)\n",
    "\n",
    "result = np.array(normalized_data)\n",
    "\n",
    "# split train and test data\n",
    "row = int(round(result.shape[0] * 0.9))\n",
    "train = result[:row, :]\n",
    "np.random.shuffle(train)\n",
    "\n",
    "x_train = train[:, :-1]\n",
    "x_train = np.reshape(x_train, (x_train.shape[0], x_train.shape[1], 1))\n",
    "y_train = train[:, -1]\n",
    "\n",
    "x_test = result[row:, :-1]\n",
    "x_test = np.reshape(x_test, (x_test.shape[0], x_test.shape[1], 1))\n",
    "y_test = result[row:, -1]\n",
    "\n",
    "x_train.shape, x_test.shape"
   ]
  },
  {
   "cell_type": "raw",
   "metadata": {},
   "source": [
    "# LSTM 모형을 만듭니다.\n",
    "# activation fucntion은 'linear', loss는 'mse', optimizer는 'rmsprop'를 이용합니다."
   ]
  },
  {
   "cell_type": "code",
   "execution_count": 12,
   "metadata": {},
   "outputs": [
    {
     "name": "stdout",
     "output_type": "stream",
     "text": [
      "Model: \"sequential\"\n",
      "_________________________________________________________________\n",
      "Layer (type)                 Output Shape              Param #   \n",
      "=================================================================\n",
      "lstm (LSTM)                  (None, 50, 64)            16896     \n",
      "_________________________________________________________________\n",
      "lstm_1 (LSTM)                (None, 50, 32)            12416     \n",
      "_________________________________________________________________\n",
      "lstm_2 (LSTM)                (None, 16)                3136      \n",
      "_________________________________________________________________\n",
      "dense (Dense)                (None, 1)                 17        \n",
      "=================================================================\n",
      "Total params: 32,465\n",
      "Trainable params: 32,465\n",
      "Non-trainable params: 0\n",
      "_________________________________________________________________\n"
     ]
    }
   ],
   "source": [
    "model = Sequential()\n",
    "model.add(LSTM(64, return_sequences=True, input_shape=(50, 1)))\n",
    "\n",
    "model.add(LSTM(32, return_sequences=True, dropout=0.1))\n",
    "\n",
    "model.add(LSTM(16, return_sequences=False, dropout=0.1))\n",
    "\n",
    "model.add(Dense(1, activation='linear'))\n",
    "\n",
    "model.compile(loss='mse', optimizer='rmsprop')\n",
    "\n",
    "model.summary()\n"
   ]
  },
  {
   "cell_type": "raw",
   "metadata": {},
   "source": [
    "# LSTM 모형에서 층수와 drop out rate 등을 조금씩 바꿔서 시도할 때 효율적으로 진행하기 위해 early stoppoing call back을 적용했습니다.\n",
    "# 최종 결과를 뽑을 때는 early stopping rule을 적용하지는 않았습니다."
   ]
  },
  {
   "cell_type": "code",
   "execution_count": 13,
   "metadata": {},
   "outputs": [],
   "source": [
    "import numpy as np\n",
    "\n",
    "\n",
    "class EarlyStoppingAtMinLoss(tensorflow.keras.callbacks.Callback):\n",
    "    \"\"\"Stop training when the loss is at its min, i.e. the loss stops decreasing.\n",
    "\n",
    "  Arguments:\n",
    "      patience: Number of epochs to wait after min has been hit. After this\n",
    "      number of no improvement, training stops.\n",
    "  \"\"\"\n",
    "\n",
    "    def __init__(self, patience=0):\n",
    "        super(EarlyStoppingAtMinLoss, self).__init__()\n",
    "        self.patience = patience\n",
    "        # best_weights to store the weights at which the minimum loss occurs.\n",
    "        self.best_weights = None\n",
    "\n",
    "    def on_train_begin(self, logs=None):\n",
    "        # The number of epoch it has waited when loss is no longer minimum.\n",
    "        self.wait = 0\n",
    "        # The epoch the training stops at.\n",
    "        self.stopped_epoch = 0\n",
    "        # Initialize the best as infinity.\n",
    "        self.best = np.Inf\n",
    "\n",
    "    def on_epoch_end(self, epoch, logs=None):\n",
    "        current = logs.get(\"loss\")\n",
    "        if np.less(current, self.best):\n",
    "            self.best = current\n",
    "            self.wait = 0\n",
    "            # Record the best weights if current results is better (less).\n",
    "            self.best_weights = self.model.get_weights()\n",
    "        else:\n",
    "            self.wait += 1\n",
    "            if self.wait >= self.patience:\n",
    "                self.stopped_epoch = epoch\n",
    "                self.model.stop_training = True\n",
    "                print(\"Restoring model weights from the end of the best epoch.\")\n",
    "                self.model.set_weights(self.best_weights)\n",
    "\n",
    "    def on_train_end(self, logs=None):\n",
    "        if self.stopped_epoch > 0:\n",
    "            print(\"Epoch %05d: early stopping\" % (self.stopped_epoch + 1))"
   ]
  },
  {
   "cell_type": "raw",
   "metadata": {},
   "source": [
    "# LSTM 모형을 학습합니다.\n",
    "# validation set은 train set의 20%를 이용했습니다.\n",
    "# batch size=10, epochs=50을 이용했습니다."
   ]
  },
  {
   "cell_type": "code",
   "execution_count": 14,
   "metadata": {},
   "outputs": [
    {
     "name": "stdout",
     "output_type": "stream",
     "text": [
      "Epoch 1/50\n",
      "52/52 [==============================] - 7s 66ms/step - loss: 0.0099 - val_loss: 0.0032\n",
      "Epoch 2/50\n",
      "52/52 [==============================] - 2s 39ms/step - loss: 0.0031 - val_loss: 0.0050\n",
      "Epoch 3/50\n",
      "52/52 [==============================] - 2s 39ms/step - loss: 0.0034 - val_loss: 0.0019\n",
      "Epoch 4/50\n",
      "52/52 [==============================] - 2s 39ms/step - loss: 0.0024 - val_loss: 0.0018\n",
      "Epoch 5/50\n",
      "52/52 [==============================] - 2s 39ms/step - loss: 0.0019 - val_loss: 0.0014\n",
      "Epoch 6/50\n",
      "52/52 [==============================] - 2s 40ms/step - loss: 0.0025 - val_loss: 0.0013\n",
      "Epoch 7/50\n",
      "52/52 [==============================] - 2s 40ms/step - loss: 0.0015 - val_loss: 0.0013\n",
      "Epoch 8/50\n",
      "52/52 [==============================] - 2s 40ms/step - loss: 0.0018 - val_loss: 0.0011\n",
      "Epoch 9/50\n",
      "52/52 [==============================] - 2s 40ms/step - loss: 0.0015 - val_loss: 0.0011\n",
      "Epoch 10/50\n",
      "52/52 [==============================] - 2s 39ms/step - loss: 0.0013 - val_loss: 8.7440e-04\n",
      "Epoch 11/50\n",
      "52/52 [==============================] - 2s 40ms/step - loss: 0.0012 - val_loss: 8.9314e-04\n",
      "Epoch 12/50\n",
      "52/52 [==============================] - 2s 40ms/step - loss: 0.0013 - val_loss: 7.1853e-04\n",
      "Epoch 13/50\n",
      "52/52 [==============================] - 2s 40ms/step - loss: 0.0012 - val_loss: 0.0018\n",
      "Epoch 14/50\n",
      "52/52 [==============================] - 2s 40ms/step - loss: 0.0013 - val_loss: 0.0010\n",
      "Epoch 15/50\n",
      "52/52 [==============================] - 2s 40ms/step - loss: 0.0010 - val_loss: 0.0012\n",
      "Epoch 16/50\n",
      "52/52 [==============================] - 2s 40ms/step - loss: 0.0012 - val_loss: 0.0011\n",
      "Epoch 17/50\n",
      "52/52 [==============================] - 2s 40ms/step - loss: 9.8762e-04 - val_loss: 0.0011\n",
      "Epoch 18/50\n",
      "52/52 [==============================] - 2s 40ms/step - loss: 0.0012 - val_loss: 6.4544e-04\n",
      "Epoch 19/50\n",
      "52/52 [==============================] - 2s 40ms/step - loss: 9.1918e-04 - val_loss: 5.1102e-04\n",
      "Epoch 20/50\n",
      "52/52 [==============================] - 2s 40ms/step - loss: 8.5308e-04 - val_loss: 9.5898e-04\n",
      "Epoch 21/50\n",
      "52/52 [==============================] - 2s 40ms/step - loss: 8.4928e-04 - val_loss: 7.9203e-04\n",
      "Epoch 22/50\n",
      "52/52 [==============================] - 2s 41ms/step - loss: 9.6769e-04 - val_loss: 5.1718e-04\n",
      "Epoch 23/50\n",
      "52/52 [==============================] - 2s 40ms/step - loss: 9.4898e-04 - val_loss: 6.6817e-04\n",
      "Epoch 24/50\n",
      "52/52 [==============================] - 2s 40ms/step - loss: 6.6064e-04 - val_loss: 7.1062e-04\n",
      "Epoch 25/50\n",
      "52/52 [==============================] - 2s 40ms/step - loss: 8.0755e-04 - val_loss: 0.0016\n",
      "Epoch 26/50\n",
      "52/52 [==============================] - 2s 41ms/step - loss: 7.1189e-04 - val_loss: 4.9693e-04\n",
      "Epoch 27/50\n",
      "52/52 [==============================] - 2s 40ms/step - loss: 8.4502e-04 - val_loss: 5.0819e-04\n",
      "Epoch 28/50\n",
      "52/52 [==============================] - 2s 41ms/step - loss: 8.1195e-04 - val_loss: 4.2646e-04\n",
      "Epoch 29/50\n",
      "52/52 [==============================] - 2s 40ms/step - loss: 9.0992e-04 - val_loss: 5.8057e-04\n",
      "Epoch 30/50\n",
      "52/52 [==============================] - 2s 40ms/step - loss: 6.9427e-04 - val_loss: 6.5306e-04\n",
      "Epoch 31/50\n",
      "52/52 [==============================] - 2s 40ms/step - loss: 6.8400e-04 - val_loss: 5.0060e-04\n",
      "Epoch 32/50\n",
      "52/52 [==============================] - 2s 40ms/step - loss: 6.8010e-04 - val_loss: 3.8097e-04\n",
      "Epoch 33/50\n",
      "52/52 [==============================] - 2s 40ms/step - loss: 6.2523e-04 - val_loss: 4.3363e-04\n",
      "Epoch 34/50\n",
      "52/52 [==============================] - 2s 40ms/step - loss: 6.1205e-04 - val_loss: 3.0947e-04\n",
      "Epoch 35/50\n",
      "52/52 [==============================] - 2s 44ms/step - loss: 5.5255e-04 - val_loss: 2.9418e-04\n",
      "Epoch 36/50\n",
      "52/52 [==============================] - 2s 40ms/step - loss: 5.7478e-04 - val_loss: 6.7822e-04\n",
      "Epoch 37/50\n",
      "52/52 [==============================] - 2s 41ms/step - loss: 6.3888e-04 - val_loss: 3.4840e-04\n",
      "Epoch 38/50\n",
      "52/52 [==============================] - 2s 40ms/step - loss: 6.2742e-04 - val_loss: 4.0799e-04\n",
      "Epoch 39/50\n",
      "52/52 [==============================] - 2s 40ms/step - loss: 6.1043e-04 - val_loss: 6.0569e-04\n",
      "Epoch 40/50\n",
      "52/52 [==============================] - 2s 39ms/step - loss: 5.5399e-04 - val_loss: 2.9722e-04\n",
      "Epoch 41/50\n",
      "52/52 [==============================] - 2s 40ms/step - loss: 6.0412e-04 - val_loss: 3.3818e-04\n",
      "Epoch 42/50\n",
      "52/52 [==============================] - 2s 41ms/step - loss: 4.9458e-04 - val_loss: 3.0468e-04\n",
      "Epoch 43/50\n",
      "52/52 [==============================] - 2s 40ms/step - loss: 6.1956e-04 - val_loss: 8.1022e-04\n",
      "Epoch 44/50\n",
      "52/52 [==============================] - 2s 40ms/step - loss: 5.4909e-04 - val_loss: 3.5421e-04\n",
      "Epoch 45/50\n",
      "52/52 [==============================] - 2s 40ms/step - loss: 5.5509e-04 - val_loss: 2.5334e-04\n",
      "Epoch 46/50\n",
      "52/52 [==============================] - 2s 40ms/step - loss: 5.0218e-04 - val_loss: 5.2227e-04\n",
      "Epoch 47/50\n",
      "52/52 [==============================] - 2s 40ms/step - loss: 5.3195e-04 - val_loss: 4.2844e-04\n",
      "Epoch 48/50\n",
      "52/52 [==============================] - 2s 40ms/step - loss: 5.0080e-04 - val_loss: 3.4605e-04\n",
      "Epoch 49/50\n",
      "52/52 [==============================] - 2s 40ms/step - loss: 4.9722e-04 - val_loss: 2.6154e-04\n",
      "Epoch 50/50\n",
      "52/52 [==============================] - 2s 40ms/step - loss: 5.2551e-04 - val_loss: 8.6171e-04\n"
     ]
    }
   ],
   "source": [
    "history=model.fit(x_train, y_train,validation_split=0.2,\n",
    "    batch_size=10,\n",
    "    epochs=50)#,callbacks=[EarlyStoppingAtMinLoss()])"
   ]
  },
  {
   "cell_type": "raw",
   "metadata": {},
   "source": [
    "# 학습을 모니터링 합니다.\n",
    "# epoch에 따른 training loss와 validation loss를 그래프를 그립니다.\n",
    "# training loss는 계속 감소하는 형태이고 validation loss는 중간 중간에 튀는 값이 나옵니다."
   ]
  },
  {
   "cell_type": "code",
   "execution_count": 15,
   "metadata": {},
   "outputs": [
    {
     "data": {
      "image/png": "[encoded data removed]",
      "text/plain": [
       "<Figure size 432x288 with 1 Axes>"
      ]
     },
     "metadata": {
      "needs_background": "light"
     },
     "output_type": "display_data"
    }
   ],
   "source": [
    "import matplotlib.pyplot as plt\n",
    "\n",
    "loss = history.history['loss']\n",
    "val_loss = history.history['val_loss']\n",
    "\n",
    "epochs = range(1, len(loss) + 1)\n",
    "\n",
    "plt.plot(epochs, loss, 'bo', label='Training loss')\n",
    "plt.plot(epochs, val_loss, 'b', label='Validation loss')\n",
    "plt.title('Training and validation loss')\n",
    "plt.xlabel('Epochs')\n",
    "plt.ylabel('Loss')\n",
    "plt.legend()\n",
    "\n",
    "plt.show()"
   ]
  },
  {
   "cell_type": "raw",
   "metadata": {},
   "source": [
    "# 학습된 모델을 기반으로 test 데이터를 예측하니다.\n",
    "# normalized 상태에서 true 값과 예측된 값의 그래프를 그립니다."
   ]
  },
  {
   "cell_type": "code",
   "execution_count": 16,
   "metadata": {},
   "outputs": [
    {
     "data": {
      "image/png": "[encoded data removed]",
      "text/plain": [
       "<Figure size 504x504 with 1 Axes>"
      ]
     },
     "metadata": {},
     "output_type": "display_data"
    }
   ],
   "source": [
    "pred = model.predict(x_test)\n",
    "\n",
    "fig = plt.figure(facecolor='white', figsize=(7,7))\n",
    "ax = fig.add_subplot(111)\n",
    "ax.plot(y_test, label='True')\n",
    "ax.plot(pred, label='Prediction')\n",
    "ax.legend()\n",
    "plt.show()"
   ]
  },
  {
   "cell_type": "raw",
   "metadata": {},
   "source": [
    "# 원래 scale로 그래프를 그려 true값과 예측된 값을 확입합니다."
   ]
  },
  {
   "cell_type": "code",
   "execution_count": 17,
   "metadata": {},
   "outputs": [
    {
     "data": {
      "image/png": "[encoded data removed]",
      "text/plain": [
       "<Figure size 504x504 with 1 Axes>"
      ]
     },
     "metadata": {},
     "output_type": "display_data"
    }
   ],
   "source": [
    "final_price = (pred+1) * scale\n",
    "true_price = (y_test+1) * scale\n",
    "fig =plt.figure(facecolor='white',figsize=(7,7))\n",
    "ax =fig.add_subplot(1,1,1)\n",
    "ax.set(xlim=[0,80],ylim=[75000,90000],title='samsung stock', xlabel='day',ylabel='prices')\n",
    "ax.plot(true_price, label='True')\n",
    "ax.plot(final_price, label='Prediction')\n",
    "ax.legend()\n",
    "plt.show()"
   ]
  },
  {
   "cell_type": "raw",
   "metadata": {},
   "source": [
    "# 추세 자체는 비슷해보이지만 true 값과 예측값 차이가 커서 이를 기반으로 실제 매수,매도 적용은 어려워 보입니다."
   ]
  },
  {
   "cell_type": "code",
   "execution_count": 18,
   "metadata": {},
   "outputs": [
    {
     "data": {
      "text/plain": [
       "<bound method NDFrame.head of        true          pred         diff\n",
       "0   82300.0  80552.484375  1747.515625\n",
       "1   81250.0  80675.531250   574.468750\n",
       "2   81600.0  80314.171875  1285.828125\n",
       "3   81750.0  80322.968750  1427.031250\n",
       "4   82950.0  80436.328125  2513.671875\n",
       "..      ...           ...          ...\n",
       "67  81200.0  80245.554688   954.445312\n",
       "68  80700.0  80243.937500   456.062500\n",
       "69  80900.0  80038.945312   861.054688\n",
       "70  81500.0  80063.140625  1436.859375\n",
       "71  81000.0  80371.109375   628.890625\n",
       "\n",
       "[72 rows x 3 columns]>"
      ]
     },
     "execution_count": 18,
     "metadata": {},
     "output_type": "execute_result"
    }
   ],
   "source": [
    "res = pd.DataFrame(data=true_price)\n",
    "res.columns=['true']\n",
    "res['pred'] = final_price\n",
    "res['diff'] = res['true']-res['pred']\n",
    "res.head"
   ]
  },
  {
   "cell_type": "raw",
   "metadata": {},
   "source": [
    "# 아래는 moving average를 이용하여 매수, 모두 시점을 선택했을 때 수익을 계산한 코드를 삼성전자 데이터에 적용한 것입니다."
   ]
  },
  {
   "cell_type": "raw",
   "metadata": {},
   "source": [
    "# 코드를 적용하기 위해 데이터 변수명과 index를 변경해 줍니다."
   ]
  },
  {
   "cell_type": "code",
   "execution_count": 19,
   "metadata": {},
   "outputs": [
    {
     "data": {
      "text/plain": [
       "<bound method NDFrame.head of           Date  Close  diff   Open   High    Low    Volume\n",
       "0   2018-05-04  51900  1100  53000  53900  51800  39565391\n",
       "1   2018-05-08  52600   700  52600  53200  51900  23104720\n",
       "2   2018-05-09  50900  1700  52600  52800  50900  16128305\n",
       "3   2018-05-10  51600   700  51700  51700  50600  13905263\n",
       "4   2018-05-11  51300   300  52000  52200  51200  10314997\n",
       "..         ...    ...   ...    ...    ...    ...       ...\n",
       "764 2021-06-14  80500   500  80800  80900  80500  10550078\n",
       "765 2021-06-15  80900   400  80900  81200  80600  10075685\n",
       "766 2021-06-16  81800   900  81500  81900  81100  14999855\n",
       "767 2021-06-17  80900   900  81100  81300  80700  14007385\n",
       "768 2021-06-18  80500   400  81100  81100  80500  14618173\n",
       "\n",
       "[769 rows x 7 columns]>"
      ]
     },
     "execution_count": 19,
     "metadata": {},
     "output_type": "execute_result"
    }
   ],
   "source": [
    "df = data\n",
    "df = data.rename(columns= {'date': 'Date', 'close': 'Close', 'open': 'Open', 'high': 'High', 'low': 'Low', 'volume': 'Volume'}) \n",
    "df.index=df.index.sort_values(ascending=True)\n",
    "df.head"
   ]
  },
  {
   "cell_type": "raw",
   "metadata": {},
   "source": [
    "# short window와 long window를 지정하여, short window 동안의 가격이 long window 동안 가격보다 높으면 매수를 합니다.\n",
    "# short window는 일주일 기준으로 주말 제외하고 5일, long window는 세달 주말 제외하고 66일을 고려 했습니다."
   ]
  },
  {
   "cell_type": "code",
   "execution_count": 20,
   "metadata": {},
   "outputs": [
    {
     "data": {
      "text/html": [
       "<div>\n",
       "<style scoped>\n",
       "    .dataframe tbody tr th:only-of-type {\n",
       "        vertical-align: middle;\n",
       "    }\n",
       "\n",
       "    .dataframe tbody tr th {\n",
       "        vertical-align: top;\n",
       "    }\n",
       "\n",
       "    .dataframe thead th {\n",
       "        text-align: right;\n",
       "    }\n",
       "</style>\n",
       "<table border=\"1\" class=\"dataframe\">\n",
       "  <thead>\n",
       "    <tr style=\"text-align: right;\">\n",
       "      <th></th>\n",
       "      <th>signal</th>\n",
       "      <th>short_ma</th>\n",
       "      <th>long_ma</th>\n",
       "      <th>positions</th>\n",
       "    </tr>\n",
       "  </thead>\n",
       "  <tbody>\n",
       "    <tr>\n",
       "      <th>0</th>\n",
       "      <td>0.0</td>\n",
       "      <td>51900.0</td>\n",
       "      <td>51900.000000</td>\n",
       "      <td>NaN</td>\n",
       "    </tr>\n",
       "    <tr>\n",
       "      <th>1</th>\n",
       "      <td>0.0</td>\n",
       "      <td>52250.0</td>\n",
       "      <td>52250.000000</td>\n",
       "      <td>0.0</td>\n",
       "    </tr>\n",
       "    <tr>\n",
       "      <th>2</th>\n",
       "      <td>0.0</td>\n",
       "      <td>51800.0</td>\n",
       "      <td>51800.000000</td>\n",
       "      <td>0.0</td>\n",
       "    </tr>\n",
       "    <tr>\n",
       "      <th>3</th>\n",
       "      <td>0.0</td>\n",
       "      <td>51750.0</td>\n",
       "      <td>51750.000000</td>\n",
       "      <td>0.0</td>\n",
       "    </tr>\n",
       "    <tr>\n",
       "      <th>4</th>\n",
       "      <td>0.0</td>\n",
       "      <td>51660.0</td>\n",
       "      <td>51660.000000</td>\n",
       "      <td>0.0</td>\n",
       "    </tr>\n",
       "    <tr>\n",
       "      <th>...</th>\n",
       "      <td>...</td>\n",
       "      <td>...</td>\n",
       "      <td>...</td>\n",
       "      <td>...</td>\n",
       "    </tr>\n",
       "    <tr>\n",
       "      <th>764</th>\n",
       "      <td>0.0</td>\n",
       "      <td>81100.0</td>\n",
       "      <td>81996.969697</td>\n",
       "      <td>0.0</td>\n",
       "    </tr>\n",
       "    <tr>\n",
       "      <th>765</th>\n",
       "      <td>0.0</td>\n",
       "      <td>80900.0</td>\n",
       "      <td>81980.303030</td>\n",
       "      <td>0.0</td>\n",
       "    </tr>\n",
       "    <tr>\n",
       "      <th>766</th>\n",
       "      <td>0.0</td>\n",
       "      <td>81040.0</td>\n",
       "      <td>81965.151515</td>\n",
       "      <td>0.0</td>\n",
       "    </tr>\n",
       "    <tr>\n",
       "      <th>767</th>\n",
       "      <td>0.0</td>\n",
       "      <td>81020.0</td>\n",
       "      <td>81951.515152</td>\n",
       "      <td>0.0</td>\n",
       "    </tr>\n",
       "    <tr>\n",
       "      <th>768</th>\n",
       "      <td>0.0</td>\n",
       "      <td>80920.0</td>\n",
       "      <td>81916.666667</td>\n",
       "      <td>0.0</td>\n",
       "    </tr>\n",
       "  </tbody>\n",
       "</table>\n",
       "<p>769 rows × 4 columns</p>\n",
       "</div>"
      ],
      "text/plain": [
       "     signal  short_ma       long_ma  positions\n",
       "0       0.0   51900.0  51900.000000        NaN\n",
       "1       0.0   52250.0  52250.000000        0.0\n",
       "2       0.0   51800.0  51800.000000        0.0\n",
       "3       0.0   51750.0  51750.000000        0.0\n",
       "4       0.0   51660.0  51660.000000        0.0\n",
       "..      ...       ...           ...        ...\n",
       "764     0.0   81100.0  81996.969697        0.0\n",
       "765     0.0   80900.0  81980.303030        0.0\n",
       "766     0.0   81040.0  81965.151515        0.0\n",
       "767     0.0   81020.0  81951.515152        0.0\n",
       "768     0.0   80920.0  81916.666667        0.0\n",
       "\n",
       "[769 rows x 4 columns]"
      ]
     },
     "execution_count": 20,
     "metadata": {},
     "output_type": "execute_result"
    }
   ],
   "source": [
    "#short_window = int(0.025 * len(df))\n",
    "#long_window = int(0.05 * len(df))\n",
    "\n",
    "short_window = 5\n",
    "long_window = 66\n",
    "\n",
    "signals = pd.DataFrame(index=df.index)\n",
    "signals['signal'] = 0.0\n",
    "\n",
    "signals['short_ma'] = df['Close'].rolling(window=short_window, min_periods=1, center=False).mean()\n",
    "signals['long_ma'] = df['Close'].rolling(window=long_window, min_periods=1, center=False).mean()\n",
    "\n",
    "signals['signal'][short_window:] = np.where(signals['short_ma'][short_window:] \n",
    "                                            > signals['long_ma'][short_window:], 1.0, 0.0)   \n",
    "signals['positions'] = signals['signal'].diff()\n",
    "\n",
    "signals"
   ]
  },
  {
   "cell_type": "raw",
   "metadata": {},
   "source": [
    "# 주식을 각 시점에 매도, 매수하는 코드입니다.\n",
    "# 초기 자본금은 10만원, 매수 시 최대 2주, 매도 시 최대 1주로 고려 했습니다."
   ]
  },
  {
   "cell_type": "code",
   "execution_count": 21,
   "metadata": {},
   "outputs": [],
   "source": [
    "def buy_stock(\n",
    "    real_movement,\n",
    "    signal,\n",
    "    initial_money = 100000,\n",
    "    max_buy = 2,\n",
    "    max_sell = 1,\n",
    "):\n",
    "    \"\"\"\n",
    "    real_movement = actual movement in the real world\n",
    "    delay = how much interval you want to delay to change our decision from buy to sell, vice versa\n",
    "    initial_state = 1 is buy, 0 is sell\n",
    "    initial_money = 100000, ignore what kind of currency\n",
    "    max_buy = max quantity for share to buy\n",
    "    max_sell = max quantity for share to sell\n",
    "    \"\"\"\n",
    "    starting_money = initial_money\n",
    "    states_sell = []\n",
    "    states_buy = []\n",
    "    current_inventory = 0\n",
    "\n",
    "    def buy(i, initial_money, current_inventory):\n",
    "        shares = initial_money // real_movement[i]\n",
    "        if shares < 1:\n",
    "            print(\n",
    "                'day %d: total balances %f, not enough money to buy a unit price %f'\n",
    "                % (i, initial_money, real_movement[i])\n",
    "            )\n",
    "        else:\n",
    "            if shares > max_buy:\n",
    "                buy_units = max_buy\n",
    "            else:\n",
    "                buy_units = shares\n",
    "            initial_money -= buy_units * real_movement[i]\n",
    "            current_inventory += buy_units\n",
    "            print(\n",
    "                'day %d: buy %d units at price %f, total balance %f'\n",
    "                % (i, buy_units, buy_units * real_movement[i], initial_money)\n",
    "            )\n",
    "            states_buy.append(0)\n",
    "        return initial_money, current_inventory\n",
    "\n",
    "    for i in range(real_movement.shape[0] - short_window):\n",
    "        state = signal[i]\n",
    "        if state == 1:\n",
    "            initial_money, current_inventory = buy(\n",
    "                i, initial_money, current_inventory\n",
    "            )\n",
    "            states_buy.append(i)\n",
    "        elif state == -1:\n",
    "            if current_inventory == 0:\n",
    "                    print('day %d: cannot sell anything, inventory 0' % (i))\n",
    "            else:\n",
    "                if current_inventory > max_sell:\n",
    "                    sell_units = max_sell\n",
    "                else:\n",
    "                    sell_units = current_inventory\n",
    "                current_inventory -= sell_units\n",
    "                total_sell = sell_units * real_movement[i]\n",
    "                initial_money += total_sell\n",
    "                try:\n",
    "                    invest = (\n",
    "                        (real_movement[i] - real_movement[states_buy[-1]])\n",
    "                        / real_movement[states_buy[-1]]\n",
    "                    ) * 100\n",
    "                except:\n",
    "                    invest = 0\n",
    "                print(\n",
    "                    'day %d, sell %d units at price %f, investment %f %%, total balance %f,'\n",
    "                    % (i, sell_units, total_sell, invest, initial_money)\n",
    "                )\n",
    "            states_sell.append(i)\n",
    "    invest = ((initial_money - starting_money) / starting_money) * 100\n",
    "    total_gains = initial_money - starting_money\n",
    "    return states_buy, states_sell, total_gains, invest"
   ]
  },
  {
   "cell_type": "raw",
   "metadata": {},
   "source": [
    "# 종가 기준으로 매수, 매도 타이밍을 잡습니다."
   ]
  },
  {
   "cell_type": "code",
   "execution_count": 22,
   "metadata": {},
   "outputs": [
    {
     "name": "stdout",
     "output_type": "stream",
     "text": [
      "day 13: buy 1 units at price 52700.000000, total balance 47300.000000\n",
      "day 19, sell 1 units at price 51100.000000, investment -3.036053 %, total balance 98400.000000,\n",
      "day 21: buy 1 units at price 50600.000000, total balance 47800.000000\n",
      "day 22, sell 1 units at price 49650.000000, investment -1.877470 %, total balance 97450.000000,\n",
      "day 80: buy 2 units at price 96900.000000, total balance 550.000000\n",
      "day 85, sell 1 units at price 44900.000000, investment -7.327141 %, total balance 45450.000000,\n",
      "day 95: total balances 45450.000000, not enough money to buy a unit price 47400.000000\n",
      "day 101, sell 1 units at price 44700.000000, investment -5.696203 %, total balance 90150.000000,\n",
      "day 173: buy 2 units at price 85500.000000, total balance 4650.000000\n",
      "day 236, sell 1 units at price 44750.000000, investment 4.678363 %, total balance 49400.000000,\n",
      "day 274: buy 1 units at price 45500.000000, total balance 3900.000000\n",
      "day 307, sell 1 units at price 43500.000000, investment -4.395604 %, total balance 47400.000000,\n",
      "day 330: buy 1 units at price 46900.000000, total balance 500.000000\n",
      "day 445, sell 1 units at price 54200.000000, investment 15.565032 %, total balance 54700.000000,\n",
      "day 507: buy 1 units at price 51200.000000, total balance 3500.000000\n",
      "day 573, sell 1 units at price 54400.000000, investment 6.250000 %, total balance 57900.000000,\n",
      "day 576: buy 1 units at price 56500.000000, total balance 1400.000000\n",
      "day 612, sell 1 units at price 57400.000000, investment 1.592920 %, total balance 58800.000000,\n",
      "day 615: total balances 58800.000000, not enough money to buy a unit price 60300.000000\n",
      "day 706, sell 1 units at price 82000.000000, investment 35.986733 %, total balance 140800.000000,\n",
      "day 717: buy 1 units at price 86000.000000, total balance 54800.000000\n",
      "day 723, sell 1 units at price 84000.000000, investment -2.325581 %, total balance 138800.000000,\n",
      "day 726: buy 1 units at price 83300.000000, total balance 55500.000000\n",
      "day 729, sell 1 units at price 82400.000000, investment -1.080432 %, total balance 137900.000000,\n"
     ]
    }
   ],
   "source": [
    "states_buy, states_sell, total_gains, invest = buy_stock(df.Close, signals['positions'])"
   ]
  },
  {
   "cell_type": "code",
   "execution_count": 23,
   "metadata": {},
   "outputs": [
    {
     "data": {
      "image/png": "[encoded data removed]",
      "text/plain": [
       "<Figure size 1080x360 with 1 Axes>"
      ]
     },
     "metadata": {
      "needs_background": "light"
     },
     "output_type": "display_data"
    }
   ],
   "source": [
    "\n",
    "close = df['Close']\n",
    "fig = plt.figure(figsize = (15,5))\n",
    "plt.plot(close, color='r', lw=2.)\n",
    "plt.plot(close, '^', markersize=10, color='m', label = 'buying signal', markevery = states_buy)\n",
    "plt.plot(close, 'v', markersize=10, color='k', label = 'selling signal', markevery = states_sell)\n",
    "plt.title('total gains %f, total investment %f%%'%(total_gains, invest))\n",
    "plt.legend()\n",
    "plt.show()"
   ]
  },
  {
   "cell_type": "raw",
   "metadata": {},
   "source": [
    "# 10망원 자본금으로 2018-05-04~2021-06-18까지 투자를 진행 했을 때 37900원을 벌었습니다.\n",
    "# 투자 기간동안 삼성전자 주가가 약 2배 정도 상승한 것에 비하면 수익이 좋지는 않은 것 같습니다.\n",
    "# window 길이와 최대 매도, 매수 갯수에 따라 수익률이 달라지며, 특정 경우 1% 미만의 수익을 내기도 했습니다.\n",
    "# 현재 37.9% 수익은 주가 자체가 많이 상승했기 때문인 것으로 보이며, 다른 종목이나 하락장에서 수익을 기대하기는 어려울 것 같습니다."
   ]
  }
 ],
 "metadata": {
  "colab": {
   "name": "3.6-classifying-newswires.ipynb",
   "provenance": []
  },
  "kernelspec": {
   "display_name": "Python 3",
   "language": "python",
   "name": "python3"
  },
  "language_info": {
   "codemirror_mode": {
    "name": "ipython",
    "version": 3
   },
   "file_extension": ".py",
   "mimetype": "text/x-python",
   "name": "python",
   "nbconvert_exporter": "python",
   "pygments_lexer": "ipython3",
   "version": "3.6.9"
  }
 },
 "nbformat": 4,
 "nbformat_minor": 4
}
