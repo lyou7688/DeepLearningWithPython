{
  "nbformat": 4,
  "nbformat_minor": 0,
  "metadata": {
    "colab": {
      "name": "Untitled0.ipynb",
      "provenance": [],
      "collapsed_sections": [],
      "authorship_tag": "ABX9TyMWkRloakxroSZmuChieM/P",
      "include_colab_link": true
    },
    "kernelspec": {
      "name": "python3",
      "display_name": "Python 3"
    }
  },
  "cells": [
    {
      "cell_type": "markdown",
      "metadata": {
        "id": "view-in-github",
        "colab_type": "text"
      },
      "source": [
        "<a href=\"https://colab.research.google.com/github/lyou7688/DeepLearningWithPython/blob/main/Untitled0.ipynb\" target=\"_parent\"><img src=\"https://colab.research.google.com/assets/colab-badge.svg\" alt=\"Open In Colab\"/></a>"
      ]
    },
    {
      "cell_type": "code",
      "metadata": {
        "colab": {
          "base_uri": "https://localhost:8080/"
        },
        "id": "oouEHcgBtNwW",
        "outputId": "a6532fa6-bad5-45d8-949f-db85e8797003"
      },
      "source": [
        "a=123\r\n",
        "b=234\r\n",
        "a+b\r\n"
      ],
      "execution_count": 2,
      "outputs": [
        {
          "output_type": "execute_result",
          "data": {
            "text/plain": [
              "357"
            ]
          },
          "metadata": {
            "tags": []
          },
          "execution_count": 2
        }
      ]
    },
    {
      "cell_type": "code",
      "metadata": {
        "colab": {
          "base_uri": "https://localhost:8080/"
        },
        "id": "_BoPlZgQtFx9",
        "outputId": "5b851714-1d89-47f3-c342-c72c43495bcc"
      },
      "source": [
        "1+2\r\n"
      ],
      "execution_count": 1,
      "outputs": [
        {
          "output_type": "execute_result",
          "data": {
            "text/plain": [
              "3"
            ]
          },
          "metadata": {
            "tags": []
          },
          "execution_count": 1
        }
      ]
    },
    {
      "cell_type": "markdown",
      "metadata": {
        "id": "k5NIiqk_tXBv"
      },
      "source": [
        ""
      ]
    },
    {
      "cell_type": "code",
      "metadata": {
        "colab": {
          "base_uri": "https://localhost:8080/",
          "height": 35
        },
        "id": "JJFJh87gtZIX",
        "outputId": "0ad2bcf0-3f70-4bc5-fb5c-2e5c915832a7"
      },
      "source": [
        "aa=\"-\"\r\n",
        "aa*30"
      ],
      "execution_count": 3,
      "outputs": [
        {
          "output_type": "execute_result",
          "data": {
            "application/vnd.google.colaboratory.intrinsic+json": {
              "type": "string"
            },
            "text/plain": [
              "'------------------------------'"
            ]
          },
          "metadata": {
            "tags": []
          },
          "execution_count": 3
        }
      ]
    },
    {
      "cell_type": "code",
      "metadata": {
        "colab": {
          "base_uri": "https://localhost:8080/"
        },
        "id": "5BBIlm5CtybC",
        "outputId": "1dedbc18-b44d-4182-88d2-d3053f348f4b"
      },
      "source": [
        "money = True\r\n",
        "if money:\r\n",
        "  print('택시타고')\r\n",
        "else:\r\n",
        "  print('걸어서')\r\n",
        "  "
      ],
      "execution_count": 4,
      "outputs": [
        {
          "output_type": "stream",
          "text": [
            "택시타고\n"
          ],
          "name": "stdout"
        }
      ]
    },
    {
      "cell_type": "code",
      "metadata": {
        "colab": {
          "base_uri": "https://localhost:8080/",
          "height": 136
        },
        "id": "bDxo02YDuGBg",
        "outputId": "fad91bea-14b2-4c3f-acda-e5f4724eda12"
      },
      "source": [
        "if money:\r\n",
        "  print('택시타고')\r\n",
        " else:\r\n",
        "  print('걸어서')"
      ],
      "execution_count": 5,
      "outputs": [
        {
          "output_type": "error",
          "ename": "IndentationError",
          "evalue": "ignored",
          "traceback": [
            "\u001b[0;36m  File \u001b[0;32m\"<ipython-input-5-46166d21e575>\"\u001b[0;36m, line \u001b[0;32m3\u001b[0m\n\u001b[0;31m    else:\u001b[0m\n\u001b[0m         ^\u001b[0m\n\u001b[0;31mIndentationError\u001b[0m\u001b[0;31m:\u001b[0m unindent does not match any outer indentation level\n"
          ]
        }
      ]
    },
    {
      "cell_type": "code",
      "metadata": {
        "colab": {
          "base_uri": "https://localhost:8080/"
        },
        "id": "PXFtKuoKuRqP",
        "outputId": "1cafe3d2-948d-4ab5-8ca8-01fa18913d19"
      },
      "source": [
        "if money:\r\n",
        "  print('택시타고')\r\n",
        "  print('가라')\r\n",
        "\r\n"
      ],
      "execution_count": 7,
      "outputs": [
        {
          "output_type": "stream",
          "text": [
            "택시타고\n",
            "가라\n"
          ],
          "name": "stdout"
        }
      ]
    },
    {
      "cell_type": "code",
      "metadata": {
        "colab": {
          "base_uri": "https://localhost:8080/"
        },
        "id": "3VZuMJIIucqx",
        "outputId": "d08058cc-6ede-48ba-b104-8108577823bd"
      },
      "source": [
        "if money:\r\n",
        "     print('택시타고')\r\n",
        "     print('가라')"
      ],
      "execution_count": 9,
      "outputs": [
        {
          "output_type": "stream",
          "text": [
            "택시타고\n",
            "가라\n"
          ],
          "name": "stdout"
        }
      ]
    }
  ]
}